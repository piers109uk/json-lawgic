{
 "cells": [
  {
   "cell_type": "code",
   "execution_count": 1,
   "metadata": {},
   "outputs": [],
   "source": [
    "from langchain_openai import ChatOpenAI\n",
    "from dotenv import load_dotenv\n",
    "\n",
    "# Load environment variables from .env file\n",
    "load_dotenv()\n",
    "\n",
    "llm = ChatOpenAI(model=\"gpt-4o-mini\")\n",
    "\n",
    "\n"
   ]
  },
  {
   "cell_type": "code",
   "execution_count": 3,
   "metadata": {},
   "outputs": [],
   "source": [
    "from pydantic import BaseModel, Field\n",
    "\n",
    "\n",
    "# Pydantic\n",
    "class JsonLogicInterpretation(BaseModel):\n",
    "    \"\"\"A JSON logic interpretation.\"\"\"\n",
    "    rule: object = Field(description=\"The pure JSON logic rule expressed as a JSON object\")\n",
    "    examples: list[object] = Field(description=\"Three examples of data that we could run the JsonLogic rule on\")\n",
    "    variables: list[str] = Field(description=\"A list of variables referenced in the rule\")\n"
   ]
  },
  {
   "cell_type": "code",
   "execution_count": null,
   "metadata": {},
   "outputs": [],
   "source": [
    "import json\n",
    "\n",
    "\n",
    "def fetch_json(path: str):\n",
    "    with open(path) as json_data:\n",
    "        return json.load(json_data)\n",
    "  \n",
    "def fetch_text(path: str):\n",
    "    with open(path) as f:\n",
    "        return f.read()\n"
   ]
  },
  {
   "cell_type": "code",
   "execution_count": 17,
   "metadata": {},
   "outputs": [],
   "source": [
    "from langchain_core.prompts import PromptTemplate\n",
    "\n",
    "prompt=\"\"\"\n",
    "I am looking to express laws as JsonLogic.\n",
    "\n",
    "Here is some info on how JSON logic works:\n",
    "---\n",
    "{json_logic}\n",
    "---\n",
    "\n",
    "Please express the following law as JSON logic:\n",
    "{law}\n",
    "\n",
    "Provide your response as JSON in the following form:\n",
    "// The pure JSON logic rule expressed as a JSON object\n",
    "rule: object\n",
    "// three examples of data that we could run the JsonLogic rule on\n",
    "examples: object[]\n",
    "// a list of variables referenced in the rule\n",
    "variables: string[]\n",
    "\n",
    "\"\"\"\n",
    "\n",
    "prompt_template = PromptTemplate.from_template(prompt)\n",
    "\n"
   ]
  },
  {
   "cell_type": "code",
   "execution_count": null,
   "metadata": {},
   "outputs": [
    {
     "name": "stdout",
     "output_type": "stream",
     "text": [
      "rule={'if': [{'and': [{'var': 'county_boundary_produced'}, {'var': 'water_area'}]}, 'jurisdiction', 'no_jurisdiction']} examples=[{'county_boundary_produced': True, 'water_area': True}, {'county_boundary_produced': True, 'water_area': False}, {'county_boundary_produced': False, 'water_area': True}] variables=['county_boundary_produced', 'water_area']\n"
     ]
    }
   ],
   "source": [
    "\n",
    "json_logic = fetch_text(\"../markdown/json-logic.md\")\n",
    "law_object = fetch_json(\"../data/default/000000001.json\")\n",
    "law_text = law_object.get(\"text\")\n",
    "prompt = prompt_template.invoke({\"json_logic\": json_logic, \"law\": law_text})\n",
    "\n",
    "structured_llm = llm.with_structured_output(JsonLogicInterpretation)\n",
    "\n",
    "response = structured_llm.invoke(prompt)\n",
    "print(response)"
   ]
  }
 ],
 "metadata": {
  "kernelspec": {
   "display_name": ".venv",
   "language": "python",
   "name": "python3"
  },
  "language_info": {
   "codemirror_mode": {
    "name": "ipython",
    "version": 3
   },
   "file_extension": ".py",
   "mimetype": "text/x-python",
   "name": "python",
   "nbconvert_exporter": "python",
   "pygments_lexer": "ipython3",
   "version": "3.12.5"
  }
 },
 "nbformat": 4,
 "nbformat_minor": 2
}
