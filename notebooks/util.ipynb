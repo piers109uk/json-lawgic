{
 "cells": [
  {
   "cell_type": "code",
   "execution_count": 3,
   "metadata": {},
   "outputs": [
    {
     "data": {
      "text/plain": [
       "'../frontend/public/favicon.ico'"
      ]
     },
     "execution_count": 3,
     "metadata": {},
     "output_type": "execute_result"
    }
   ],
   "source": [
    "from cairosvg import svg2png\n",
    "from PIL import Image\n",
    "\n",
    "output_path = '../frontend/public/scale_rounded.svg'\n",
    "\n",
    "# Convert the updated SVG to PNG\n",
    "png_path = '../frontend/public/scale_rounded.png'\n",
    "svg2png(url=output_path, write_to=png_path)\n",
    "\n",
    "# Convert the PNG to ICO\n",
    "ico_path = '../frontend/public/favicon.ico'\n",
    "image = Image.open(png_path)\n",
    "image.save(ico_path, format='ICO', sizes=[(16, 16), (32, 32), (48, 48), (64, 64)])\n",
    "\n",
    "ico_path\n"
   ]
  }
 ],
 "metadata": {
  "kernelspec": {
   "display_name": ".venv",
   "language": "python",
   "name": "python3"
  },
  "language_info": {
   "codemirror_mode": {
    "name": "ipython",
    "version": 3
   },
   "file_extension": ".py",
   "mimetype": "text/x-python",
   "name": "python",
   "nbconvert_exporter": "python",
   "pygments_lexer": "ipython3",
   "version": "3.12.5"
  }
 },
 "nbformat": 4,
 "nbformat_minor": 2
}
