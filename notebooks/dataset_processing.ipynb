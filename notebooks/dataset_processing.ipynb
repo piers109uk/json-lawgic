{
 "cells": [
  {
   "cell_type": "code",
   "execution_count": null,
   "metadata": {},
   "outputs": [],
   "source": [
    "# Useful because this stores them in memory\n",
    "from datasets import load_dataset\n",
    "\n",
    "statutes = load_dataset(\"../data/default\", data_files=\"*.json\")\n",
    "\n"
   ]
  },
  {
   "cell_type": "code",
   "execution_count": 11,
   "metadata": {},
   "outputs": [
    {
     "name": "stderr",
     "output_type": "stream",
     "text": [
      "Creating parquet from Arrow format: 100%|██████████| 28/28 [00:00<00:00, 44.19ba/s]\n",
      "Uploading the dataset shards: 100%|██████████| 1/1 [00:12<00:00, 12.01s/it]\n"
     ]
    },
    {
     "data": {
      "text/plain": [
       "CommitInfo(commit_url='https://huggingface.co/datasets/piers109uk/MN-Statutes/commit/08559943a24c352bf9a07e8f9d64b28d1cf39e41', commit_message='Upload dataset', commit_description='', oid='08559943a24c352bf9a07e8f9d64b28d1cf39e41', pr_url=None, repo_url=RepoUrl('https://huggingface.co/datasets/piers109uk/MN-Statutes', endpoint='https://huggingface.co', repo_type='dataset', repo_id='piers109uk/MN-Statutes'), pr_revision=None, pr_num=None)"
      ]
     },
     "execution_count": 11,
     "metadata": {},
     "output_type": "execute_result"
    }
   ],
   "source": [
    "\n",
    "filtered_statutes = statutes.filter(lambda x: not x[\"repealed\"]).remove_columns([\"repealed\"])\n",
    "filtered_statutes.push_to_hub(\"piers109uk/MN-Statutes\", private=False)\n",
    "# print(example['train'][0])"
   ]
  }
 ],
 "metadata": {
  "kernelspec": {
   "display_name": ".venv",
   "language": "python",
   "name": "python3"
  },
  "language_info": {
   "codemirror_mode": {
    "name": "ipython",
    "version": 3
   },
   "file_extension": ".py",
   "mimetype": "text/x-python",
   "name": "python",
   "nbconvert_exporter": "python",
   "pygments_lexer": "ipython3",
   "version": "3.12.5"
  }
 },
 "nbformat": 4,
 "nbformat_minor": 2
}
